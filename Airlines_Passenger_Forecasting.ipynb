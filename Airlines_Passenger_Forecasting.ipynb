{
  "nbformat": 4,
  "nbformat_minor": 0,
  "metadata": {
    "kernelspec": {
      "name": "python3",
      "display_name": "Python 3",
      "language": "python"
    },
    "language_info": {
      "name": "python",
      "version": "3.7.6",
      "mimetype": "text/x-python",
      "codemirror_mode": {
        "name": "ipython",
        "version": 3
      },
      "pygments_lexer": "ipython3",
      "nbconvert_exporter": "python",
      "file_extension": ".py"
    },
    "colab": {
      "name": "Airlines Passenger Forecasting.ipynb",
      "provenance": []
    }
  },
  "cells": [
    {
      "cell_type": "markdown",
      "metadata": {
        "id": "wvAe8-rTKEIo"
      },
      "source": [
        "# Airlines Passenger Forecasting\n",
        "\n",
        "Develop a model to predict the number of international airline passengers in units of 1,000\n",
        "\n",
        "--Hemansh Anand"
      ]
    },
    {
      "cell_type": "markdown",
      "metadata": {
        "id": "ne9h5Rq1KEIv"
      },
      "source": [
        "**Steps :**\n",
        "\n",
        "* Introduction\n",
        "* Loading and Indexing the Dataset\n",
        "* Checking if the data is stationary or not ( It should have constant Mean - Variance - Std)\n",
        "* Converting data into stationary\n",
        "* Creating the ARIMA model"
      ]
    },
    {
      "cell_type": "markdown",
      "metadata": {
        "id": "bNBHsKmIKEIw"
      },
      "source": [
        "Time Series Data is a collection of observations recorded over an equal time interval. \n",
        "\n",
        "Componenents of Time Series Data are - \n",
        "\n",
        "1. Seasonality - Repititive patterns observed over a specific time period, lets say a day, week or even months.\n",
        "2. Trend - Upward or Downward movement of Data.\n",
        "3. Noise - Randomness in the dataset.\n",
        "4. Cyclic - Changes in the Time Series Data because of economicboom and bust."
      ]
    },
    {
      "cell_type": "markdown",
      "metadata": {
        "id": "tl0wHh0DKEIx"
      },
      "source": [
        "Stationarity - Distribution of data is invariant (not change) with respect to time. \n",
        "Trend & Seasonality contribute to Non Stationarity.\n",
        "\n",
        "For a Time Series Data to be modelled it ought to be Stationary as if the features are internally correlated and differ with time, they result in vague regression analysis."
      ]
    },
    {
      "cell_type": "code",
      "metadata": {
        "_uuid": "8f2839f25d086af736a60e9eeb907d3b93b6e0e5",
        "_cell_guid": "b1076dfc-b9ad-4769-8c92-a6c4dae69d19",
        "trusted": true,
        "id": "81e3GUC0KEIy",
        "outputId": "3dab5904-672e-4be2-ab78-b21ed4fbf6f0"
      },
      "source": [
        "# This Python 3 environment comes with many helpful analytics libraries installed\n",
        "# It is defined by the kaggle/python Docker image: https://github.com/kaggle/docker-python\n",
        "# For example, here's several helpful packages to load\n",
        "\n",
        "import numpy as np # linear algebra\n",
        "import pandas as pd # data processing, CSV file I/O (e.g. pd.read_csv)\n",
        "import matplotlib.pyplot as plt\n",
        "\n",
        "# Input data files are available in the read-only \"../input/\" directory\n",
        "# For example, running this (by clicking run or pressing Shift+Enter) will list all files under the input directory\n",
        "\n",
        "import os\n",
        "for dirname, _, filenames in os.walk('/kaggle/input'):\n",
        "    for filename in filenames:\n",
        "        print(os.path.join(dirname, filename))\n",
        "\n",
        "# You can write up to 5GB to the current directory (/kaggle/working/) that gets preserved as output when you create a version using \"Save & Run All\" \n",
        "# You can also write temporary files to /kaggle/temp/, but they won't be saved outside of the current session"
      ],
      "execution_count": null,
      "outputs": [
        {
          "output_type": "stream",
          "text": "/kaggle/input/air-passengers/AirPassengers.csv\n",
          "name": "stdout"
        }
      ]
    },
    {
      "cell_type": "markdown",
      "metadata": {
        "id": "j1XvyhPzKEI1"
      },
      "source": [
        "Loading the Dataset"
      ]
    },
    {
      "cell_type": "code",
      "metadata": {
        "_uuid": "d629ff2d2480ee46fbb7e2d37f6b5fab8052498a",
        "_cell_guid": "79c7e3d0-c299-4dcb-8224-4455121ee9b0",
        "trusted": true,
        "id": "IoKYGRrUKEI1",
        "outputId": "4f492496-b657-49c0-c280-bf885c79fe1a"
      },
      "source": [
        "df = pd.read_csv('../input/air-passengers/AirPassengers.csv')\n",
        "df.head()"
      ],
      "execution_count": null,
      "outputs": [
        {
          "output_type": "execute_result",
          "execution_count": 6,
          "data": {
            "text/plain": "     Month  #Passengers\n0  1949-01          112\n1  1949-02          118\n2  1949-03          132\n3  1949-04          129\n4  1949-05          121",
            "text/html": "<div>\n<style scoped>\n    .dataframe tbody tr th:only-of-type {\n        vertical-align: middle;\n    }\n\n    .dataframe tbody tr th {\n        vertical-align: top;\n    }\n\n    .dataframe thead th {\n        text-align: right;\n    }\n</style>\n<table border=\"1\" class=\"dataframe\">\n  <thead>\n    <tr style=\"text-align: right;\">\n      <th></th>\n      <th>Month</th>\n      <th>#Passengers</th>\n    </tr>\n  </thead>\n  <tbody>\n    <tr>\n      <th>0</th>\n      <td>1949-01</td>\n      <td>112</td>\n    </tr>\n    <tr>\n      <th>1</th>\n      <td>1949-02</td>\n      <td>118</td>\n    </tr>\n    <tr>\n      <th>2</th>\n      <td>1949-03</td>\n      <td>132</td>\n    </tr>\n    <tr>\n      <th>3</th>\n      <td>1949-04</td>\n      <td>129</td>\n    </tr>\n    <tr>\n      <th>4</th>\n      <td>1949-05</td>\n      <td>121</td>\n    </tr>\n  </tbody>\n</table>\n</div>"
          },
          "metadata": {}
        }
      ]
    },
    {
      "cell_type": "markdown",
      "metadata": {
        "id": "ER8bQw7MKEI3"
      },
      "source": [
        "The dataset is time series having columns Months and No. of Passengers. Now we will play with the basic pandas function to know more about the dataset."
      ]
    },
    {
      "cell_type": "code",
      "metadata": {
        "trusted": true,
        "id": "u227tKH1KEI3",
        "outputId": "c287f32e-0458-4ef9-d640-2222f2756626"
      },
      "source": [
        "df.shape"
      ],
      "execution_count": null,
      "outputs": [
        {
          "output_type": "execute_result",
          "execution_count": 7,
          "data": {
            "text/plain": "(144, 2)"
          },
          "metadata": {}
        }
      ]
    },
    {
      "cell_type": "code",
      "metadata": {
        "trusted": true,
        "id": "SvQCjhm6KEI4",
        "outputId": "9c0f23fd-ec7c-4872-f279-8f7179fc419e"
      },
      "source": [
        "df.isna().sum()"
      ],
      "execution_count": null,
      "outputs": [
        {
          "output_type": "execute_result",
          "execution_count": 8,
          "data": {
            "text/plain": "Month          0\n#Passengers    0\ndtype: int64"
          },
          "metadata": {}
        }
      ]
    },
    {
      "cell_type": "code",
      "metadata": {
        "trusted": true,
        "id": "jw5D8CM-KEI5",
        "outputId": "3f30c30d-1747-4771-c9e2-41e635843da5"
      },
      "source": [
        "df.info()"
      ],
      "execution_count": null,
      "outputs": [
        {
          "output_type": "stream",
          "text": "<class 'pandas.core.frame.DataFrame'>\nRangeIndex: 144 entries, 0 to 143\nData columns (total 2 columns):\n #   Column       Non-Null Count  Dtype \n---  ------       --------------  ----- \n 0   Month        144 non-null    object\n 1   #Passengers  144 non-null    int64 \ndtypes: int64(1), object(1)\nmemory usage: 2.4+ KB\n",
          "name": "stdout"
        }
      ]
    },
    {
      "cell_type": "markdown",
      "metadata": {
        "id": "ffpKF9HtKEI5"
      },
      "source": [
        "We don't have any missing values"
      ]
    },
    {
      "cell_type": "code",
      "metadata": {
        "trusted": true,
        "id": "dTLDx8W2KEI6"
      },
      "source": [
        "from datetime import datetime"
      ],
      "execution_count": null,
      "outputs": []
    },
    {
      "cell_type": "markdown",
      "metadata": {
        "id": "w6AuJ2UzKEI7"
      },
      "source": [
        "Converting date string to datetime data type"
      ]
    },
    {
      "cell_type": "code",
      "metadata": {
        "trusted": true,
        "id": "IW0k8Lx-KEI8"
      },
      "source": [
        "df['Month']=pd.to_datetime(df['Month'],infer_datetime_format=True)"
      ],
      "execution_count": null,
      "outputs": []
    },
    {
      "cell_type": "markdown",
      "metadata": {
        "id": "-MGPNjxeKEI8"
      },
      "source": [
        "As you can see, I have changed the data type now"
      ]
    },
    {
      "cell_type": "code",
      "metadata": {
        "trusted": true,
        "id": "Kp39LCO7KEI9",
        "outputId": "4595d114-a30a-4ba3-ae41-bedc0eb99d95"
      },
      "source": [
        "df.info()"
      ],
      "execution_count": null,
      "outputs": [
        {
          "output_type": "stream",
          "text": "<class 'pandas.core.frame.DataFrame'>\nRangeIndex: 144 entries, 0 to 143\nData columns (total 2 columns):\n #   Column       Non-Null Count  Dtype         \n---  ------       --------------  -----         \n 0   Month        144 non-null    datetime64[ns]\n 1   #Passengers  144 non-null    int64         \ndtypes: datetime64[ns](1), int64(1)\nmemory usage: 2.4 KB\n",
          "name": "stdout"
        }
      ]
    },
    {
      "cell_type": "markdown",
      "metadata": {
        "id": "nyLIE1d-KEI9"
      },
      "source": [
        "Setting the index as date so that we can access and traverse values easily, do a substring search and brownie points to the fact that it can help us to visualise easily."
      ]
    },
    {
      "cell_type": "code",
      "metadata": {
        "trusted": true,
        "id": "qtxyZiekKEI9"
      },
      "source": [
        "index = df.set_index('Month',inplace=False)"
      ],
      "execution_count": null,
      "outputs": []
    },
    {
      "cell_type": "code",
      "metadata": {
        "trusted": true,
        "id": "MieXHJPzKEI-",
        "outputId": "6b53d835-3f90-4510-8805-26e5968f42ed"
      },
      "source": [
        "index.head()"
      ],
      "execution_count": null,
      "outputs": [
        {
          "output_type": "execute_result",
          "execution_count": 15,
          "data": {
            "text/plain": "            #Passengers\nMonth                  \n1949-01-01          112\n1949-02-01          118\n1949-03-01          132\n1949-04-01          129\n1949-05-01          121",
            "text/html": "<div>\n<style scoped>\n    .dataframe tbody tr th:only-of-type {\n        vertical-align: middle;\n    }\n\n    .dataframe tbody tr th {\n        vertical-align: top;\n    }\n\n    .dataframe thead th {\n        text-align: right;\n    }\n</style>\n<table border=\"1\" class=\"dataframe\">\n  <thead>\n    <tr style=\"text-align: right;\">\n      <th></th>\n      <th>#Passengers</th>\n    </tr>\n    <tr>\n      <th>Month</th>\n      <th></th>\n    </tr>\n  </thead>\n  <tbody>\n    <tr>\n      <th>1949-01-01</th>\n      <td>112</td>\n    </tr>\n    <tr>\n      <th>1949-02-01</th>\n      <td>118</td>\n    </tr>\n    <tr>\n      <th>1949-03-01</th>\n      <td>132</td>\n    </tr>\n    <tr>\n      <th>1949-04-01</th>\n      <td>129</td>\n    </tr>\n    <tr>\n      <th>1949-05-01</th>\n      <td>121</td>\n    </tr>\n  </tbody>\n</table>\n</div>"
          },
          "metadata": {}
        }
      ]
    },
    {
      "cell_type": "markdown",
      "metadata": {
        "id": "mAV-ViWLKEI-"
      },
      "source": [
        "Visualising the Passengers"
      ]
    },
    {
      "cell_type": "code",
      "metadata": {
        "trusted": true,
        "id": "qD9FEOncKEI-",
        "outputId": "b89408b8-fd3d-451f-f8f4-3806b81ac97a"
      },
      "source": [
        "index.plot()"
      ],
      "execution_count": null,
      "outputs": [
        {
          "output_type": "execute_result",
          "execution_count": 16,
          "data": {
            "text/plain": "<matplotlib.axes._subplots.AxesSubplot at 0x7ffb736f5a90>"
          },
          "metadata": {}
        },
        {
          "output_type": "display_data",
          "data": {
            "text/plain": "<Figure size 432x288 with 1 Axes>",
            "image/png": "[encoded data removed]"
          },
          "metadata": {
            "needs_background": "light"
          }
        }
      ]
    },
    {
      "cell_type": "markdown",
      "metadata": {
        "id": "qwsvl6LGKEI_"
      },
      "source": [
        "Typing \"#Passengers\" seems really annoying so I'll just rename it, Hehe."
      ]
    },
    {
      "cell_type": "code",
      "metadata": {
        "trusted": true,
        "id": "LLJG5lK-KEI_"
      },
      "source": [
        "index.rename(columns={'#Passengers':'Passengers'},inplace=True)"
      ],
      "execution_count": null,
      "outputs": []
    },
    {
      "cell_type": "markdown",
      "metadata": {
        "id": "t_W9pxvgKEI_"
      },
      "source": [
        "# Checking if the data is stationary"
      ]
    },
    {
      "cell_type": "markdown",
      "metadata": {
        "id": "ILVH8mlnKEI_"
      },
      "source": [
        "So basically you can adopt any of these ways -> plot the rooling mean or rolling std to check if the change in mean is constant or not -> ADCF Test -> KPSS Test\n",
        "\n",
        "For a better explanation and your clarity, I will skim you through each of them.."
      ]
    },
    {
      "cell_type": "code",
      "metadata": {
        "trusted": true,
        "id": "5zR47ooWKEI_"
      },
      "source": [
        "simple_ma = index['Passengers'].rolling(window=12).mean()\n",
        "simple_std = index['Passengers'].rolling(window=12).std()"
      ],
      "execution_count": null,
      "outputs": []
    },
    {
      "cell_type": "code",
      "metadata": {
        "trusted": true,
        "id": "mdY1v4P8KEJA",
        "outputId": "e90a4bd9-bb52-492e-9166-ff5446231dd6"
      },
      "source": [
        "plt.title('Data vs Mean vs Std')\n",
        "plt.plot(index,color='yellow')\n",
        "plt.plot(simple_ma, color='blue')\n",
        "plt.plot(simple_std,color='red')"
      ],
      "execution_count": null,
      "outputs": [
        {
          "output_type": "execute_result",
          "execution_count": 21,
          "data": {
            "text/plain": "[<matplotlib.lines.Line2D at 0x7ffb734283d0>]"
          },
          "metadata": {}
        },
        {
          "output_type": "display_data",
          "data": {
            "text/plain": "<Figure size 432x288 with 1 Axes>",
            "image/png": "[encoded data removed]"
          },
          "metadata": {
            "needs_background": "light"
          }
        }
      ]
    },
    {
      "cell_type": "markdown",
      "metadata": {
        "id": "O22VEh2BKEJA"
      },
      "source": [
        "Trend in the dataset can evidently be seen\n",
        "\n",
        "Conducting the ADCF ie Augmented Dickey Fuller Test. Having the Null Hypothesis to be Time Series is Non Stationary"
      ]
    },
    {
      "cell_type": "code",
      "metadata": {
        "trusted": true,
        "id": "gsYu8JYAKEJA",
        "outputId": "dd4cfb67-7093-40fe-c8e9-266f7097a4e1"
      },
      "source": [
        "from statsmodels.tsa.stattools import adfuller\n",
        "df_test = adfuller(index['Passengers'])\n",
        "df_test"
      ],
      "execution_count": null,
      "outputs": [
        {
          "output_type": "execute_result",
          "execution_count": 23,
          "data": {
            "text/plain": "(0.8153688792060423,\n 0.9918802434376409,\n 13,\n 130,\n {'1%': -3.4816817173418295,\n  '5%': -2.8840418343195267,\n  '10%': -2.578770059171598},\n 996.6929308390189)"
          },
          "metadata": {}
        }
      ]
    },
    {
      "cell_type": "markdown",
      "metadata": {
        "id": "zC97zwPyKEJA"
      },
      "source": [
        "Output shows the follwoing : Test Statistic 0.81 p-value 0.99 #Lags Used 13 No. of Observation Used 130 followed by Critical Values at various percentages.\n",
        "\n",
        "For Data to be stationary p value should be < 0.05 and critical values should be close to Test Statistics. Therefore, ADCF test concludes that data is NOT Stationary"
      ]
    },
    {
      "cell_type": "markdown",
      "metadata": {
        "id": "MC0XwnHsKEJB"
      },
      "source": [
        "Still y'all have a doubt whether Data is stationary or not? Don't worry. Just for your validation, I will conduct another test! That being the KPSS Test\n",
        "\n"
      ]
    },
    {
      "cell_type": "code",
      "metadata": {
        "trusted": true,
        "id": "yyEfXAEOKEJB",
        "outputId": "4e1c49f6-4835-4ce2-b0ac-84dc6ae68d89"
      },
      "source": [
        "from statsmodels.tsa.stattools import kpss\n",
        "kpss_test = kpss(index['Passengers'],'ct')\n",
        "kpss_test"
      ],
      "execution_count": null,
      "outputs": [
        {
          "output_type": "stream",
          "text": "/opt/conda/lib/python3.7/site-packages/statsmodels/tsa/stattools.py:1661: FutureWarning: The behavior of using lags=None will change in the next release. Currently lags=None is the same as lags='legacy', and so a sample-size lag length is used. After the next release, the default will change to be the same as lags='auto' which uses an automatic lag length selection method. To silence this warning, either use 'auto' or 'legacy'\n  warn(msg, FutureWarning)\n",
          "name": "stderr"
        },
        {
          "output_type": "execute_result",
          "execution_count": 24,
          "data": {
            "text/plain": "(0.1627365740582311,\n 0.03605285495147407,\n 14,\n {'10%': 0.119, '5%': 0.146, '2.5%': 0.176, '1%': 0.216})"
          },
          "metadata": {}
        }
      ]
    },
    {
      "cell_type": "markdown",
      "metadata": {
        "id": "r15inMy8KEJB"
      },
      "source": [
        "Output shows the follwoing : Test Statistic 0.16 p-value 0.03 #Lags Used 14 followed by Critical Values at various percentages.\n",
        "\n",
        "For Data to not be stationary p value should be < 0.05 and Null Hypothesis should be rejected. Therefore, KPSS test also concludes that data is NOT Stationary"
      ]
    },
    {
      "cell_type": "markdown",
      "metadata": {
        "id": "m4jaocm8KEJB"
      },
      "source": [
        "# Transforming Data to Achieve Stationarity\n"
      ]
    },
    {
      "cell_type": "markdown",
      "metadata": {
        "id": "fp8TXonZKEJC"
      },
      "source": [
        "Now that we've established that data is non stationary we need to change it to Stationary. \n",
        "This can be done via : Differencing or Transformations."
      ]
    },
    {
      "cell_type": "markdown",
      "metadata": {
        "id": "56LIzZjjKEJC"
      },
      "source": [
        "We will perform Log Sacle Transfomation Plus Two Level Differencing"
      ]
    },
    {
      "cell_type": "code",
      "metadata": {
        "trusted": true,
        "id": "VH8e-xwRKEJC",
        "outputId": "c58f8775-161c-402c-e29f-a19378762021"
      },
      "source": [
        "index_log = np.log(index)\n",
        "index_log = index_log - index_log.shift(2)\n",
        "index_log.dropna(inplace=True)\n",
        "index_log.plot()"
      ],
      "execution_count": null,
      "outputs": [
        {
          "output_type": "execute_result",
          "execution_count": 39,
          "data": {
            "text/plain": "<matplotlib.axes._subplots.AxesSubplot at 0x7ffb68f84650>"
          },
          "metadata": {}
        },
        {
          "output_type": "display_data",
          "data": {
            "text/plain": "<Figure size 432x288 with 1 Axes>",
            "image/png": "[encoded data removed]"
          },
          "metadata": {
            "needs_background": "light"
          }
        }
      ]
    },
    {
      "cell_type": "code",
      "metadata": {
        "trusted": true,
        "id": "gD85LFDnKEJC",
        "outputId": "2a3a1aa1-7697-4fb3-ea00-b134e86b9796"
      },
      "source": [
        "df_test_log = adfuller(index_log['Passengers'])\n",
        "df_test_log"
      ],
      "execution_count": null,
      "outputs": [
        {
          "output_type": "execute_result",
          "execution_count": 40,
          "data": {
            "text/plain": "(-3.1679073752887454,\n 0.021919114564038708,\n 11,\n 130,\n {'1%': -3.4816817173418295,\n  '5%': -2.8840418343195267,\n  '10%': -2.578770059171598},\n -431.93712963284486)"
          },
          "metadata": {}
        }
      ]
    },
    {
      "cell_type": "markdown",
      "metadata": {
        "id": "j7gBa51hKEJD"
      },
      "source": [
        "After concluding the results from ADFC TEST, p-value has reduced from 0.99 to 0.02 AND critical values at 1%,5%,10% confidence intervals are pretty close to the Test Statistic. Thus,we can say that our given series is stationary."
      ]
    },
    {
      "cell_type": "markdown",
      "metadata": {
        "id": "i2ZZOaaTKEJE"
      },
      "source": [
        "# ARIMA MODEL CREATION "
      ]
    },
    {
      "cell_type": "markdown",
      "metadata": {
        "id": "KM930htlKEJE"
      },
      "source": [
        "ARIMA MODEL = AR (AutoRegressive Term - p) + I (Integrated - d) + MA (Moving Average - q)"
      ]
    },
    {
      "cell_type": "markdown",
      "metadata": {
        "id": "gmg4qG_yKEJF"
      },
      "source": [
        "**Plotting the ACF (Autocorrelation Function) and PACF (Partial Autocorrelation Function) to find out the value of p & q term**"
      ]
    },
    {
      "cell_type": "code",
      "metadata": {
        "trusted": true,
        "id": "CaWY160OKEJF"
      },
      "source": [
        "from statsmodels.graphics.tsaplots import plot_acf, plot_pacf"
      ],
      "execution_count": null,
      "outputs": []
    },
    {
      "cell_type": "code",
      "metadata": {
        "trusted": true,
        "id": "nhB4XPYIKEJF",
        "outputId": "53038051-7086-4f4f-a1fc-9858d2377c6f"
      },
      "source": [
        "plot_acf(index_log,lags=10,alpha=0.05)\n",
        "plot_pacf(index_log,lags=10,alpha=0.05)"
      ],
      "execution_count": null,
      "outputs": [
        {
          "output_type": "execute_result",
          "execution_count": 44,
          "data": {
            "text/plain": "<Figure size 432x288 with 1 Axes>",
            "image/png": "[encoded data removed]"
          },
          "metadata": {}
        },
        {
          "output_type": "display_data",
          "data": {
            "text/plain": "<Figure size 432x288 with 1 Axes>",
            "image/png": "[encoded data removed]"
          },
          "metadata": {
            "needs_background": "light"
          }
        },
        {
          "output_type": "display_data",
          "data": {
            "text/plain": "<Figure size 432x288 with 1 Axes>",
            "image/png": "[encoded data removed]"
          },
          "metadata": {
            "needs_background": "light"
          }
        }
      ]
    },
    {
      "cell_type": "markdown",
      "metadata": {
        "id": "4_TwVsQNKEJF"
      },
      "source": [
        "In both the plots, the value cuts of at Lag 2."
      ]
    },
    {
      "cell_type": "markdown",
      "metadata": {
        "id": "b8nIiCKUKEJG"
      },
      "source": [
        "**Therefore, final order of terms for ARIMA Model for respective p,d,q are (2,2,2)**"
      ]
    },
    {
      "cell_type": "code",
      "metadata": {
        "trusted": true,
        "id": "8-LuetFNKEJG",
        "outputId": "5111c2a4-fd02-48f7-d189-9ff81fc531ee"
      },
      "source": [
        "from statsmodels.tsa.arima_model import ARIMA\n",
        "model = ARIMA(index_log , order = (2,2,2))\n",
        "results = model.fit()"
      ],
      "execution_count": null,
      "outputs": [
        {
          "output_type": "stream",
          "text": "/opt/conda/lib/python3.7/site-packages/statsmodels/tsa/base/tsa_model.py:162: ValueWarning: No frequency information was provided, so inferred frequency MS will be used.\n  % freq, ValueWarning)\n/opt/conda/lib/python3.7/site-packages/statsmodels/tsa/base/tsa_model.py:162: ValueWarning: No frequency information was provided, so inferred frequency MS will be used.\n  % freq, ValueWarning)\n/opt/conda/lib/python3.7/site-packages/statsmodels/base/model.py:548: HessianInversionWarning: Inverting hessian failed, no bse or cov_params available\n  'available', HessianInversionWarning)\n",
          "name": "stderr"
        }
      ]
    },
    {
      "cell_type": "markdown",
      "metadata": {
        "id": "-c7nKe43KEJH"
      },
      "source": [
        "# Model Evaluation"
      ]
    },
    {
      "cell_type": "code",
      "metadata": {
        "trusted": true,
        "id": "zBWbY5_FKEJH",
        "outputId": "dbb52357-3cdc-4b4c-d88f-bd24e9a2b408"
      },
      "source": [
        "residuals = results.resid\n",
        "mean_absolute_error_perc = np.mean(np.abs(residuals)) * 100\n",
        "print(\"Value of Mean Absolute Error is : \",mean_absolute_error_perc,\" %\")"
      ],
      "execution_count": null,
      "outputs": [
        {
          "output_type": "stream",
          "text": "Value of Mean Absolute Error is :  10.053086885882758  %\n",
          "name": "stdout"
        }
      ]
    },
    {
      "cell_type": "markdown",
      "metadata": {
        "id": "FNTaLZI8KEJI"
      },
      "source": [
        "Mean Absolute Error of 10% tells us that we have done a fairly nice job."
      ]
    }
  ]
}